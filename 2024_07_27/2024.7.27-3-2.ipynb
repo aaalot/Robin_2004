{
 "cells": [
  {
   "cell_type": "code",
   "execution_count": 1,
   "metadata": {},
   "outputs": [
    {
     "data": {
      "text/plain": [
       "'/home/robin/Documents/GitHub/Robin_2024/2024_07_27/__main__'"
      ]
     },
     "execution_count": 1,
     "metadata": {},
     "output_type": "execute_result"
    }
   ],
   "source": [
    "import os.path\n",
    "os.path.abspath(__name__)"
   ]
  },
  {
   "cell_type": "code",
   "execution_count": 2,
   "metadata": {},
   "outputs": [
    {
     "data": {
      "text/plain": [
       "'__main__'"
      ]
     },
     "execution_count": 2,
     "metadata": {},
     "output_type": "execute_result"
    }
   ],
   "source": [
    "__name__"
   ]
  },
  {
   "cell_type": "code",
   "execution_count": 1,
   "metadata": {},
   "outputs": [
    {
     "name": "stdout",
     "output_type": "stream",
     "text": [
      "/home/robin/Documents/GitHub/Robin_2024/2024_07_27/data\n",
      "沒有data的目錄,手動建立目錄\n",
      "沒有iot.log檔,建立新檔\n"
     ]
    }
   ],
   "source": [
    "import os.path\n",
    "import os\n",
    "\n",
    "current_path = os.path.abspath(__name__) #取得目前檔案路徑\n",
    "directory_name = os.path.dirname(current_path) #取得目前資料夾路行\n",
    "data_path = os.path.join(directory_name,'data') #目前資料夾路徑加上data目錄\n",
    "print(data_path)\n",
    "if not os.path.isdir(data_path):\n",
    "    print(\"沒有data的目錄,手動建立目錄\")\n",
    "    os.mkdir(data_path)\n",
    "else:\n",
    "    print(\"目錄已經建立\")\n",
    "\n",
    "log_path = os.path.join(data_path,'iot.log')\n",
    "if not os.path.isfile(log_path):\n",
    "    print(\"沒有iot.log檔,建立新檔\")\n",
    "    with open(log_path,mode='w',encoding='utf-8',newline='') as file:\n",
    "        file.write('時間,濕度,溫度\\n')\n",
    "    \n",
    "else:\n",
    "    print(\"已經有log檔\")"
   ]
  },
  {
   "cell_type": "code",
   "execution_count": 4,
   "metadata": {},
   "outputs": [],
   "source": [
    "with open(log_path, mode='a', encoding='utf-8',newline='') as file:\n",
    "    file.write('2024-07-27 15:29:30, 70,33.25\\n')\n",
    "               \n"
   ]
  },
  {
   "cell_type": "code",
   "execution_count": 11,
   "metadata": {},
   "outputs": [
    {
     "name": "stdout",
     "output_type": "stream",
     "text": [
      "2024 year\n",
      "7 month\n",
      "27 date\n",
      "48 minute\n",
      "59 second\n"
     ]
    }
   ],
   "source": [
    "from datetime import datetime\n",
    "now = datetime.now()\n",
    "print(now.year, \"year\")\n",
    "print(now.month, \"month\")\n",
    "print(now.day, \"date\")\n",
    "print(now.minute, \"minute\")\n",
    "print(now.second, \"second\")"
   ]
  },
  {
   "cell_type": "code",
   "execution_count": 12,
   "metadata": {},
   "outputs": [
    {
     "data": {
      "text/plain": [
       "'2024-07-27 15:48:59'"
      ]
     },
     "execution_count": 12,
     "metadata": {},
     "output_type": "execute_result"
    }
   ],
   "source": [
    "now.strftime(\"%Y-%m-%d %H:%M:%S\")"
   ]
  },
  {
   "cell_type": "code",
   "execution_count": 17,
   "metadata": {},
   "outputs": [],
   "source": [
    "from datetime import datetime\n",
    "now = datetime.now()\n",
    "now_str = now.strftime(\"%Y-%m-%d %H:%M:%S\")\n",
    "\n",
    "with open(log_path,mode='a',encoding='utf-8',newline='') as file:\n",
    "    file.write(now_str + ',  67.9, 28.7\\n')"
   ]
  },
  {
   "cell_type": "code",
   "execution_count": 19,
   "metadata": {},
   "outputs": [],
   "source": [
    "import random\n",
    "humidity = str(random.randint(330, 820) /10)\n",
    "celsius = str ( random.randint(50, 400) /10)"
   ]
  },
  {
   "cell_type": "code",
   "execution_count": 22,
   "metadata": {},
   "outputs": [],
   "source": [
    "from datetime import datetime\n",
    "import random\n",
    "\n",
    "now = datetime.now()\n",
    "now_str = now.strftime(\"%Y-%m-%d %H:%M:%S\")\n",
    "humidity = str(random.randint(330,820) / 10)\n",
    "celsius = str(random.randint(50,400) / 10)\n",
    "with open(log_path,mode='a',encoding='utf-8',newline='') as file:\n",
    "    file.write(now_str + ', ' + humidity + ', ' + celsius + \"\\n\")"
   ]
  }
 ],
 "metadata": {
  "kernelspec": {
   "display_name": "venv1",
   "language": "python",
   "name": "python3"
  },
  "language_info": {
   "codemirror_mode": {
    "name": "ipython",
    "version": 3
   },
   "file_extension": ".py",
   "mimetype": "text/x-python",
   "name": "python",
   "nbconvert_exporter": "python",
   "pygments_lexer": "ipython3",
   "version": "3.11.2"
  }
 },
 "nbformat": 4,
 "nbformat_minor": 2
}
